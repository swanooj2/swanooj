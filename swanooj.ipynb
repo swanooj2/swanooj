{
  "nbformat": 4,
  "nbformat_minor": 0,
  "metadata": {
    "colab": {
      "provenance": [],
      "authorship_tag": "ABX9TyOVx7wTGpFRomfWxmzdsz7S",
      "include_colab_link": true
    },
    "kernelspec": {
      "name": "python3",
      "display_name": "Python 3"
    },
    "language_info": {
      "name": "python"
    }
  },
  "cells": [
    {
      "cell_type": "markdown",
      "metadata": {
        "id": "view-in-github",
        "colab_type": "text"
      },
      "source": [
        "<a href=\"https://colab.research.google.com/github/swanooj2/swanooj/blob/main/swanooj.ipynb\" target=\"_parent\"><img src=\"https://colab.research.google.com/assets/colab-badge.svg\" alt=\"Open In Colab\"/></a>"
      ]
    },
    {
      "cell_type": "code",
      "execution_count": 1,
      "metadata": {
        "colab": {
          "base_uri": "https://localhost:8080/"
        },
        "id": "zNrzC8HHb5ah",
        "outputId": "27bd5854-dfbd-43e1-a8fe-e9137e53eb0c"
      },
      "outputs": [
        {
          "output_type": "stream",
          "name": "stdout",
          "text": [
            "Enter the first number: 52\n",
            "Enter the second number: 25\n",
            "The sum of 52.0 and 25.0 is 77.0\n"
          ]
        }
      ],
      "source": [
        "# Take input from the user for two numbers\n",
        "num1 = float(input(\"Enter the first number: \"))\n",
        "num2 = float(input(\"Enter the second number: \"))\n",
        "\n",
        "# Add the two numbers\n",
        "sum = num1 + num2\n",
        "\n",
        "# Display the result\n",
        "print(f\"The sum of {num1} and {num2} is {sum}\")\n"
      ]
    }
  ]
}